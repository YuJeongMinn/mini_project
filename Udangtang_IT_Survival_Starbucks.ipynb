{
 "cells": [
  {
   "cell_type": "code",
   "execution_count": 1,
   "id": "05a384ca",
   "metadata": {
    "scrolled": true
   },
   "outputs": [],
   "source": [
    "from selenium.webdriver import Chrome, ChromeService\n",
    "from bs4 import BeautifulSoup\n",
    "from selenium.webdriver.common.by import By\n",
    "from urllib.request import urlopen\n",
    "from selenium import webdriver\n",
    "import pandas as pd\n",
    "from pandas import Series, DataFrame\n",
    "import sqlite3\n",
    "import time\n",
    "from selenium.webdriver.support import expected_conditions as EC\n",
    "## con = sqlite3.connect(r\"C:\\~~~.db\")\n",
    "## df.to_sql('test', con)"
   ]
  },
  {
   "cell_type": "code",
   "execution_count": 2,
   "id": "573c10ca",
   "metadata": {},
   "outputs": [],
   "source": [
    "# 웹 접속하기\n",
    "url = \"https://www.starbucks.co.kr/menu/drink_list.do\"\n",
    "\n",
    "driver = Chrome(service = ChromeService(\"chromedriver.exe\")) # service는 chromedriver.exe의 위치를 나타냄\n",
    "\n",
    "driver.get(url) # url 접속"
   ]
  },
  {
   "cell_type": "code",
   "execution_count": 3,
   "id": "e58866c0",
   "metadata": {
    "scrolled": false
   },
   "outputs": [],
   "source": [
    "tags_a = driver.find_elements(By.CSS_SELECTOR, \"a.goDrinkView\")\n",
    "prod_num = []\n",
    "\n",
    "# 커피 종류만 가져오기\n",
    "# for i in range(len(tags_a)):\n",
    "#     print(tags_a[i].get_attribute(\"prod\"))\n",
    "#     prod_num.append(tags_a[i].get_attribute(\"prod\"))\n",
    "# print(prod_num)\n",
    "\n",
    "for i in range(59):\n",
    "    prod_num.append(tags_a[i].get_attribute(\"prod\"))"
   ]
  },
  {
   "cell_type": "code",
   "execution_count": 4,
   "id": "4b7bb24d",
   "metadata": {},
   "outputs": [],
   "source": [
    "prod_pages = []\n",
    "for i in range(59):\n",
    "    url = \"https://www.starbucks.co.kr/menu/drink_view.do?product_cd=\" + prod_num[i]\n",
    "    prod_pages.append(url)"
   ]
  },
  {
   "cell_type": "code",
   "execution_count": 6,
   "id": "3b220461",
   "metadata": {},
   "outputs": [],
   "source": [
    "raw_data = {\"brand\" : [], \"coffee\" : [], \"coffee_name\" : [],  \"price\" : [], \"caffeine\" : [], \"sugar\" : [], \"kcal\" : []}"
   ]
  },
  {
   "cell_type": "code",
   "execution_count": 7,
   "id": "9179815f",
   "metadata": {
    "scrolled": true
   },
   "outputs": [
    {
     "name": "stdout",
     "output_type": "stream",
     "text": [
      "{'brand': [], 'coffee': [], 'coffee_name': [], 'price': [], 'caffeine': ['130', '53', '360', '232', '245', '155', '190', '190', '415', '155', '680', '65', '305', '95', '155', '190', '190', '140', '330', '260', '75', '75', '150', '150', '75', '75', '75', '75', '170', '105', '210', '170', '315', '210', '210', '150', '170', '105', '210', '210', '210', '150', '75', '75', '95', '75', '95', '210', '75', '260', '150', '170', '210', '105', '170', '75', '150', '210', '150'], 'sugar': ['19', '27', '0', '10', '0', '29', '0', '0', '23', '11', '0', '14', '39', '45', '0', '41', '18', '0', '0', '0', '1', '0', '0', '0', '22', '22', '9', '8', '33', '30', '27', '20', '14', '27', '15', '39', '28', '27', '20', '21', '9', '35', '8', '13', '21', '41', '25', '43', '47', '23', '14', '31', '30', '15', '22', '0', '14', '18', '14'], 'kcal': ['170', '245', '5', '80', '5', '265', '5', '5', '100', '125', '25', '120', '360', '190', '5', '505', '225', '5', '5', '5', '30', '10', '10', '10', '190', '200', '115', '110', '365', '400', '245', '135', '270', '234', '191', '255', '325', '335', '155', '159', '117', '230', '110', '180', '250', '335', '290', '335', '405', '220', '125', '315', '290', '65', '195', '5', '125', '240', '125']}\n"
     ]
    }
   ],
   "source": [
    "for i in range(59):\n",
    "    driver.get(prod_pages[i])\n",
    "    driver.implicitly_wait(40)\n",
    "    time.sleep(1)\n",
    "    ingredient = driver.find_element(by = By.CLASS_NAME, value = \"product_info_content\")\n",
    "    driver.implicitly_wait(40)\n",
    "    time.sleep(1)\n",
    "    lst = ingredient.text.splitlines(False)\n",
    "    raw_data[\"kcal\"].append(lst[1])\n",
    "    raw_data[\"sugar\"].append(lst[9])\n",
    "    raw_data[\"caffeine\"].append(lst[11])\n",
    "print(raw_data)"
   ]
  },
  {
   "cell_type": "code",
   "execution_count": 10,
   "id": "fe8151ae",
   "metadata": {},
   "outputs": [],
   "source": [
    "for i in range(59):\n",
    "    driver.get(prod_pages[i])\n",
    "    driver.implicitly_wait(40)\n",
    "    time.sleep(1)\n",
    "    name = driver.find_element(by = By.CLASS_NAME, value = \"myAssignZone\")\n",
    "    driver.implicitly_wait(40)\n",
    "    time.sleep(1)\n",
    "    lst = name.text.splitlines(False)\n",
    "    raw_data[\"coffee_name\"].append(lst[0])"
   ]
  },
  {
   "cell_type": "code",
   "execution_count": 18,
   "id": "cc47204d",
   "metadata": {},
   "outputs": [
    {
     "name": "stdout",
     "output_type": "stream",
     "text": [
      "{'brand': [], 'coffee': [], 'coffee_name': ['씨솔트 카라멜 콜드 브루', '여수 윤슬 헤이즐넛 콜드브루', '콜드 브루', '나이트로 바닐라 크림', '나이트로 콜드 브루', '돌체 콜드 브루', '리저브 나이트로', '리저브 콜드 브루', '민트 콜드 브루', '바닐라 크림 콜드 브루', '시그니처 더 블랙 콜드 브루', '오트 콜드 브루', '제주 비자림 콜드 브루', '제주 시트러스 허니 콜드 브루', '콜드 브루', '콜드 브루 몰트', '콜드 브루 플로트', '아이스 커피', '아이스 커피', '오늘의 커피', '에스프레소 콘 파나', '에스프레소 마키아또', '아이스 카페 아메리카노', '카페 아메리카노', '아이스 카라멜 마키아또', '카라멜 마키아또', '아이스 카푸치노', '카푸치노', '더 그린 쑥 크림 라떼', '라벤더 카페 브레베', '바닐라 빈 라떼', '브라운 슈가 오트 쉐이큰 에스프레소', '사케라또 비안코 오버 아이스', '스타벅스 1호점 바닐라 빈 라떼', '스타벅스 1호점 카페 라떼', '스타벅스 돌체 라떼', '아이스 더 그린 쑥 크림 라떼', '아이스 라벤더 카페 브레베', '아이스 바닐라 빈 라떼', '아이스 스타벅스 1호점 바닐라 빈 라떼', '아이스 스타벅스 1호점 카페 라떼', '아이스 스타벅스 돌체 라떼', '아이스 카페 라떼', '카페 라떼', '아이스 카페 모카', '아이스 화이트 초콜릿 모카', '카페 모카', '클래식 민트 모카', '화이트 초콜릿 모카', '바닐라 플랫 화이트', '바닐라 스타벅스 더블 샷', '블론드 바닐라 더블 샷 마키아또', '사케라또 아포가토', '스파클링 시트러스 에스프레소', '아이스 블론드 바닐라 더블 샷 마키아또', '에스프레소', '커피 스타벅스 더블 샷', '클래식 아포가토', '헤이즐넛 스타벅스 더블 샷'], 'price': [], 'caffeine': ['130', '53', '360', '232', '245', '155', '190', '190', '415', '155', '680', '65', '305', '95', '155', '190', '190', '140', '330', '260', '75', '75', '150', '150', '75', '75', '75', '75', '170', '105', '210', '170', '315', '210', '210', '150', '170', '105', '210', '210', '210', '150', '75', '75', '95', '75', '95', '210', '75', '260', '150', '170', '210', '105', '170', '75', '150', '210', '150'], 'sugar': ['19', '27', '0', '10', '0', '29', '0', '0', '23', '11', '0', '14', '39', '45', '0', '41', '18', '0', '0', '0', '1', '0', '0', '0', '22', '22', '9', '8', '33', '30', '27', '20', '14', '27', '15', '39', '28', '27', '20', '21', '9', '35', '8', '13', '21', '41', '25', '43', '47', '23', '14', '31', '30', '15', '22', '0', '14', '18', '14'], 'kcal': ['170', '245', '5', '80', '5', '265', '5', '5', '100', '125', '25', '120', '360', '190', '5', '505', '225', '5', '5', '5', '30', '10', '10', '10', '190', '200', '115', '110', '365', '400', '245', '135', '270', '234', '191', '255', '325', '335', '155', '159', '117', '230', '110', '180', '250', '335', '290', '335', '405', '220', '125', '315', '290', '65', '195', '5', '125', '240', '125']}\n"
     ]
    }
   ],
   "source": [
    "print(raw_data)"
   ]
  },
  {
   "cell_type": "code",
   "execution_count": 17,
   "id": "50fb9e3f",
   "metadata": {},
   "outputs": [
    {
     "name": "stdout",
     "output_type": "stream",
     "text": [
      "59\n",
      "59\n",
      "59\n",
      "59\n"
     ]
    }
   ],
   "source": [
    "print(len(raw_data['coffee_name']))\n",
    "print(len(raw_data['caffeine']))\n",
    "print(len(raw_data['kcal']))\n",
    "print(len(raw_data['sugar']))"
   ]
  },
  {
   "cell_type": "code",
   "execution_count": 19,
   "id": "2bf206ad",
   "metadata": {},
   "outputs": [],
   "source": [
    "raw_data['brand'] = ['starbucks'] * 59"
   ]
  },
  {
   "cell_type": "code",
   "execution_count": 20,
   "id": "f617faa9",
   "metadata": {},
   "outputs": [
    {
     "name": "stdout",
     "output_type": "stream",
     "text": [
      "{'brand': ['starbucks', 'starbucks', 'starbucks', 'starbucks', 'starbucks', 'starbucks', 'starbucks', 'starbucks', 'starbucks', 'starbucks', 'starbucks', 'starbucks', 'starbucks', 'starbucks', 'starbucks', 'starbucks', 'starbucks', 'starbucks', 'starbucks', 'starbucks', 'starbucks', 'starbucks', 'starbucks', 'starbucks', 'starbucks', 'starbucks', 'starbucks', 'starbucks', 'starbucks', 'starbucks', 'starbucks', 'starbucks', 'starbucks', 'starbucks', 'starbucks', 'starbucks', 'starbucks', 'starbucks', 'starbucks', 'starbucks', 'starbucks', 'starbucks', 'starbucks', 'starbucks', 'starbucks', 'starbucks', 'starbucks', 'starbucks', 'starbucks', 'starbucks', 'starbucks', 'starbucks', 'starbucks', 'starbucks', 'starbucks', 'starbucks', 'starbucks', 'starbucks', 'starbucks'], 'coffee': [], 'coffee_name': ['씨솔트 카라멜 콜드 브루', '여수 윤슬 헤이즐넛 콜드브루', '콜드 브루', '나이트로 바닐라 크림', '나이트로 콜드 브루', '돌체 콜드 브루', '리저브 나이트로', '리저브 콜드 브루', '민트 콜드 브루', '바닐라 크림 콜드 브루', '시그니처 더 블랙 콜드 브루', '오트 콜드 브루', '제주 비자림 콜드 브루', '제주 시트러스 허니 콜드 브루', '콜드 브루', '콜드 브루 몰트', '콜드 브루 플로트', '아이스 커피', '아이스 커피', '오늘의 커피', '에스프레소 콘 파나', '에스프레소 마키아또', '아이스 카페 아메리카노', '카페 아메리카노', '아이스 카라멜 마키아또', '카라멜 마키아또', '아이스 카푸치노', '카푸치노', '더 그린 쑥 크림 라떼', '라벤더 카페 브레베', '바닐라 빈 라떼', '브라운 슈가 오트 쉐이큰 에스프레소', '사케라또 비안코 오버 아이스', '스타벅스 1호점 바닐라 빈 라떼', '스타벅스 1호점 카페 라떼', '스타벅스 돌체 라떼', '아이스 더 그린 쑥 크림 라떼', '아이스 라벤더 카페 브레베', '아이스 바닐라 빈 라떼', '아이스 스타벅스 1호점 바닐라 빈 라떼', '아이스 스타벅스 1호점 카페 라떼', '아이스 스타벅스 돌체 라떼', '아이스 카페 라떼', '카페 라떼', '아이스 카페 모카', '아이스 화이트 초콜릿 모카', '카페 모카', '클래식 민트 모카', '화이트 초콜릿 모카', '바닐라 플랫 화이트', '바닐라 스타벅스 더블 샷', '블론드 바닐라 더블 샷 마키아또', '사케라또 아포가토', '스파클링 시트러스 에스프레소', '아이스 블론드 바닐라 더블 샷 마키아또', '에스프레소', '커피 스타벅스 더블 샷', '클래식 아포가토', '헤이즐넛 스타벅스 더블 샷'], 'price': [], 'caffeine': ['130', '53', '360', '232', '245', '155', '190', '190', '415', '155', '680', '65', '305', '95', '155', '190', '190', '140', '330', '260', '75', '75', '150', '150', '75', '75', '75', '75', '170', '105', '210', '170', '315', '210', '210', '150', '170', '105', '210', '210', '210', '150', '75', '75', '95', '75', '95', '210', '75', '260', '150', '170', '210', '105', '170', '75', '150', '210', '150'], 'sugar': ['19', '27', '0', '10', '0', '29', '0', '0', '23', '11', '0', '14', '39', '45', '0', '41', '18', '0', '0', '0', '1', '0', '0', '0', '22', '22', '9', '8', '33', '30', '27', '20', '14', '27', '15', '39', '28', '27', '20', '21', '9', '35', '8', '13', '21', '41', '25', '43', '47', '23', '14', '31', '30', '15', '22', '0', '14', '18', '14'], 'kcal': ['170', '245', '5', '80', '5', '265', '5', '5', '100', '125', '25', '120', '360', '190', '5', '505', '225', '5', '5', '5', '30', '10', '10', '10', '190', '200', '115', '110', '365', '400', '245', '135', '270', '234', '191', '255', '325', '335', '155', '159', '117', '230', '110', '180', '250', '335', '290', '335', '405', '220', '125', '315', '290', '65', '195', '5', '125', '240', '125']}\n"
     ]
    }
   ],
   "source": [
    "print(raw_data)"
   ]
  },
  {
   "cell_type": "code",
   "execution_count": null,
   "id": "6bb0541a",
   "metadata": {},
   "outputs": [],
   "source": []
  },
  {
   "cell_type": "code",
   "execution_count": null,
   "id": "776bb131",
   "metadata": {},
   "outputs": [],
   "source": []
  },
  {
   "cell_type": "code",
   "execution_count": null,
   "id": "5dd8b0ec",
   "metadata": {},
   "outputs": [],
   "source": []
  },
  {
   "cell_type": "code",
   "execution_count": null,
   "id": "51fd3a4e",
   "metadata": {},
   "outputs": [],
   "source": []
  }
 ],
 "metadata": {
  "kernelspec": {
   "display_name": "Python 3 (ipykernel)",
   "language": "python",
   "name": "python3"
  },
  "language_info": {
   "codemirror_mode": {
    "name": "ipython",
    "version": 3
   },
   "file_extension": ".py",
   "mimetype": "text/x-python",
   "name": "python",
   "nbconvert_exporter": "python",
   "pygments_lexer": "ipython3",
   "version": "3.11.3"
  }
 },
 "nbformat": 4,
 "nbformat_minor": 5
}
