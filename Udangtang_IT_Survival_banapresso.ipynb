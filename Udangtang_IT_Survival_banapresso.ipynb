{
 "cells": [
  {
   "cell_type": "code",
   "execution_count": null,
   "id": "1471a231",
   "metadata": {},
   "outputs": [],
   "source": [
    "url = \"https://banapresso.com/menu\"\n",
    "driver = Chrome(service = ChromeService(\"chromedriver.exe\"))\n",
    "html = driver.page_source\n",
    "driver.get(url)\n",
    "driver.implicitly_wait(3)\n",
    "# click_1 = driver.find_elements(By.CSS_SELECTOR, \"div.menu-group div.menu_box span.img img\")\n",
    "# click_1[0].click()\n",
    "# soup = BeautifulSoup(driver.page_source, \"lxml\")\n",
    "soup = BeautifulSoup(html, 'html.parser')\n",
    "print(soup.text)\n",
    "# lists = soup.select(\"div.list dl dd\")\n",
    "# time.sleep(1)\n",
    "# for i in lists:\n",
    "#     print(i)\n",
    "\n",
    "# for list in lists:\n",
    "#     title = list.select_one(\"dt\").string\n",
    "#     description = list.select_one(\"dd\").string\n",
    "#     print(title)\n",
    "#     print(description)\n",
    "#     print(\"--\" * 20)"
   ]
  },
  {
   "cell_type": "code",
   "execution_count": null,
   "id": "6b06a7b5",
   "metadata": {},
   "outputs": [],
   "source": [
    "url = \"https://banapresso.com/menu\"\n",
    "driver = Chrome(service = ChromeService(\"chromedriver.exe\"))\n",
    "driver.get(url)\n",
    "driver.implicitly_wait(3)\n",
    "html = driver.page_source\n",
    "soup = BeautifulSoup(html, 'html.parser')\n",
    "print(soup.text)"
   ]
  }
 ],
 "metadata": {
  "kernelspec": {
   "display_name": "Python 3 (ipykernel)",
   "language": "python",
   "name": "python3"
  },
  "language_info": {
   "codemirror_mode": {
    "name": "ipython",
    "version": 3
   },
   "file_extension": ".py",
   "mimetype": "text/x-python",
   "name": "python",
   "nbconvert_exporter": "python",
   "pygments_lexer": "ipython3",
   "version": "3.11.3"
  }
 },
 "nbformat": 4,
 "nbformat_minor": 5
}
